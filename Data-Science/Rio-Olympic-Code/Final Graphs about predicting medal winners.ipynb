{
 "cells": [
  {
   "cell_type": "code",
   "execution_count": 1,
   "metadata": {},
   "outputs": [
    {
     "name": "stderr",
     "output_type": "stream",
     "text": [
      "/Users/amygeraghty/anaconda3/lib/python3.6/site-packages/statsmodels/compat/pandas.py:56: FutureWarning: The pandas.core.datetools module is deprecated and will be removed in a future version. Please use the pandas.tseries module instead.\n",
      "  from pandas.core import datetools\n"
     ]
    },
    {
     "data": {
      "text/html": [
       "<div>\n",
       "<style>\n",
       "    .dataframe thead tr:only-child th {\n",
       "        text-align: right;\n",
       "    }\n",
       "\n",
       "    .dataframe thead th {\n",
       "        text-align: left;\n",
       "    }\n",
       "\n",
       "    .dataframe tbody tr th {\n",
       "        vertical-align: top;\n",
       "    }\n",
       "</style>\n",
       "<table border=\"1\" class=\"dataframe\">\n",
       "  <thead>\n",
       "    <tr style=\"text-align: right;\">\n",
       "      <th></th>\n",
       "      <th>id</th>\n",
       "      <th>name</th>\n",
       "      <th>nationality</th>\n",
       "      <th>sex</th>\n",
       "      <th>date_of_birth</th>\n",
       "      <th>height</th>\n",
       "      <th>weight</th>\n",
       "      <th>sport</th>\n",
       "      <th>gold</th>\n",
       "      <th>silver</th>\n",
       "      <th>bronze</th>\n",
       "      <th>info</th>\n",
       "    </tr>\n",
       "  </thead>\n",
       "  <tbody>\n",
       "    <tr>\n",
       "      <th>0</th>\n",
       "      <td>736041664</td>\n",
       "      <td>A Jesus Garcia</td>\n",
       "      <td>ESP</td>\n",
       "      <td>male</td>\n",
       "      <td>1969-10-17</td>\n",
       "      <td>1.72</td>\n",
       "      <td>64.0</td>\n",
       "      <td>athletics</td>\n",
       "      <td>0</td>\n",
       "      <td>0</td>\n",
       "      <td>0</td>\n",
       "      <td>NaN</td>\n",
       "    </tr>\n",
       "    <tr>\n",
       "      <th>1</th>\n",
       "      <td>532037425</td>\n",
       "      <td>A Lam Shin</td>\n",
       "      <td>KOR</td>\n",
       "      <td>female</td>\n",
       "      <td>1986-09-23</td>\n",
       "      <td>1.68</td>\n",
       "      <td>56.0</td>\n",
       "      <td>fencing</td>\n",
       "      <td>0</td>\n",
       "      <td>0</td>\n",
       "      <td>0</td>\n",
       "      <td>NaN</td>\n",
       "    </tr>\n",
       "    <tr>\n",
       "      <th>2</th>\n",
       "      <td>435962603</td>\n",
       "      <td>Aaron Brown</td>\n",
       "      <td>CAN</td>\n",
       "      <td>male</td>\n",
       "      <td>1992-05-27</td>\n",
       "      <td>1.98</td>\n",
       "      <td>79.0</td>\n",
       "      <td>athletics</td>\n",
       "      <td>0</td>\n",
       "      <td>0</td>\n",
       "      <td>1</td>\n",
       "      <td>NaN</td>\n",
       "    </tr>\n",
       "    <tr>\n",
       "      <th>3</th>\n",
       "      <td>521041435</td>\n",
       "      <td>Aaron Cook</td>\n",
       "      <td>MDA</td>\n",
       "      <td>male</td>\n",
       "      <td>1991-01-02</td>\n",
       "      <td>1.83</td>\n",
       "      <td>80.0</td>\n",
       "      <td>taekwondo</td>\n",
       "      <td>0</td>\n",
       "      <td>0</td>\n",
       "      <td>0</td>\n",
       "      <td>NaN</td>\n",
       "    </tr>\n",
       "    <tr>\n",
       "      <th>4</th>\n",
       "      <td>33922579</td>\n",
       "      <td>Aaron Gate</td>\n",
       "      <td>NZL</td>\n",
       "      <td>male</td>\n",
       "      <td>1990-11-26</td>\n",
       "      <td>1.81</td>\n",
       "      <td>71.0</td>\n",
       "      <td>cycling</td>\n",
       "      <td>0</td>\n",
       "      <td>0</td>\n",
       "      <td>0</td>\n",
       "      <td>NaN</td>\n",
       "    </tr>\n",
       "  </tbody>\n",
       "</table>\n",
       "</div>"
      ],
      "text/plain": [
       "          id            name nationality     sex date_of_birth  height  \\\n",
       "0  736041664  A Jesus Garcia         ESP    male    1969-10-17    1.72   \n",
       "1  532037425      A Lam Shin         KOR  female    1986-09-23    1.68   \n",
       "2  435962603     Aaron Brown         CAN    male    1992-05-27    1.98   \n",
       "3  521041435      Aaron Cook         MDA    male    1991-01-02    1.83   \n",
       "4   33922579      Aaron Gate         NZL    male    1990-11-26    1.81   \n",
       "\n",
       "   weight      sport  gold  silver  bronze info  \n",
       "0    64.0  athletics     0       0       0  NaN  \n",
       "1    56.0    fencing     0       0       0  NaN  \n",
       "2    79.0  athletics     0       0       1  NaN  \n",
       "3    80.0  taekwondo     0       0       0  NaN  \n",
       "4    71.0    cycling     0       0       0  NaN  "
      ]
     },
     "execution_count": 1,
     "metadata": {},
     "output_type": "execute_result"
    }
   ],
   "source": [
    "import pandas as pd\n",
    "import numpy as np\n",
    "import statsmodels.api as sm\n",
    "df = pd.read_csv('athletes.csv')\n",
    "df.head()"
   ]
  },
  {
   "cell_type": "code",
   "execution_count": 2,
   "metadata": {
    "collapsed": true
   },
   "outputs": [],
   "source": [
    "df['medals won'] = df['gold'] + df['silver'] + df['bronze']\n",
    "del df['gold']\n",
    "del df['silver']\n",
    "del df['bronze']\n",
    "df['height'] = df['height'] * 3.28084\n",
    "df['weight'] = df['weight'] * 2.20462\n",
    "del df['id']\n",
    "del df['name']\n",
    "del df['nationality']\n",
    "del df['info']"
   ]
  },
  {
   "cell_type": "code",
   "execution_count": 3,
   "metadata": {},
   "outputs": [
    {
     "data": {
      "text/html": [
       "<div>\n",
       "<style>\n",
       "    .dataframe thead tr:only-child th {\n",
       "        text-align: right;\n",
       "    }\n",
       "\n",
       "    .dataframe thead th {\n",
       "        text-align: left;\n",
       "    }\n",
       "\n",
       "    .dataframe tbody tr th {\n",
       "        vertical-align: top;\n",
       "    }\n",
       "</style>\n",
       "<table border=\"1\" class=\"dataframe\">\n",
       "  <thead>\n",
       "    <tr style=\"text-align: right;\">\n",
       "      <th></th>\n",
       "      <th>sex</th>\n",
       "      <th>date_of_birth</th>\n",
       "      <th>height</th>\n",
       "      <th>weight</th>\n",
       "      <th>sport</th>\n",
       "      <th>medals won</th>\n",
       "    </tr>\n",
       "  </thead>\n",
       "  <tbody>\n",
       "    <tr>\n",
       "      <th>0</th>\n",
       "      <td>male</td>\n",
       "      <td>1969-10-17</td>\n",
       "      <td>5.643045</td>\n",
       "      <td>141.09568</td>\n",
       "      <td>athletics</td>\n",
       "      <td>0</td>\n",
       "    </tr>\n",
       "    <tr>\n",
       "      <th>1</th>\n",
       "      <td>female</td>\n",
       "      <td>1986-09-23</td>\n",
       "      <td>5.511811</td>\n",
       "      <td>123.45872</td>\n",
       "      <td>fencing</td>\n",
       "      <td>0</td>\n",
       "    </tr>\n",
       "    <tr>\n",
       "      <th>2</th>\n",
       "      <td>male</td>\n",
       "      <td>1992-05-27</td>\n",
       "      <td>6.496063</td>\n",
       "      <td>174.16498</td>\n",
       "      <td>athletics</td>\n",
       "      <td>1</td>\n",
       "    </tr>\n",
       "    <tr>\n",
       "      <th>3</th>\n",
       "      <td>male</td>\n",
       "      <td>1991-01-02</td>\n",
       "      <td>6.003937</td>\n",
       "      <td>176.36960</td>\n",
       "      <td>taekwondo</td>\n",
       "      <td>0</td>\n",
       "    </tr>\n",
       "    <tr>\n",
       "      <th>4</th>\n",
       "      <td>male</td>\n",
       "      <td>1990-11-26</td>\n",
       "      <td>5.938320</td>\n",
       "      <td>156.52802</td>\n",
       "      <td>cycling</td>\n",
       "      <td>0</td>\n",
       "    </tr>\n",
       "  </tbody>\n",
       "</table>\n",
       "</div>"
      ],
      "text/plain": [
       "      sex date_of_birth    height     weight      sport  medals won\n",
       "0    male    1969-10-17  5.643045  141.09568  athletics           0\n",
       "1  female    1986-09-23  5.511811  123.45872    fencing           0\n",
       "2    male    1992-05-27  6.496063  174.16498  athletics           1\n",
       "3    male    1991-01-02  6.003937  176.36960  taekwondo           0\n",
       "4    male    1990-11-26  5.938320  156.52802    cycling           0"
      ]
     },
     "execution_count": 3,
     "metadata": {},
     "output_type": "execute_result"
    }
   ],
   "source": [
    "df = df.dropna()\n",
    "df.head()"
   ]
  },
  {
   "cell_type": "code",
   "execution_count": 4,
   "metadata": {
    "collapsed": true
   },
   "outputs": [],
   "source": [
    "year = df[\"date_of_birth\"].values\n",
    "year = [my_str.split(\"-\")[0] for my_str in year]\n",
    "year\n",
    "df[\"date_of_birth\"] = list(map(int, year))\n",
    "df['age'] = 2016 - df[\"date_of_birth\"]\n",
    "del df['date_of_birth']"
   ]
  },
  {
   "cell_type": "code",
   "execution_count": 5,
   "metadata": {},
   "outputs": [
    {
     "data": {
      "text/html": [
       "<div>\n",
       "<style>\n",
       "    .dataframe thead tr:only-child th {\n",
       "        text-align: right;\n",
       "    }\n",
       "\n",
       "    .dataframe thead th {\n",
       "        text-align: left;\n",
       "    }\n",
       "\n",
       "    .dataframe tbody tr th {\n",
       "        vertical-align: top;\n",
       "    }\n",
       "</style>\n",
       "<table border=\"1\" class=\"dataframe\">\n",
       "  <thead>\n",
       "    <tr style=\"text-align: right;\">\n",
       "      <th></th>\n",
       "      <th>sex</th>\n",
       "      <th>height</th>\n",
       "      <th>weight</th>\n",
       "      <th>age</th>\n",
       "      <th>medal winner</th>\n",
       "    </tr>\n",
       "  </thead>\n",
       "  <tbody>\n",
       "    <tr>\n",
       "      <th>0</th>\n",
       "      <td>male</td>\n",
       "      <td>5.643045</td>\n",
       "      <td>141.09568</td>\n",
       "      <td>47</td>\n",
       "      <td>0</td>\n",
       "    </tr>\n",
       "    <tr>\n",
       "      <th>1</th>\n",
       "      <td>female</td>\n",
       "      <td>5.511811</td>\n",
       "      <td>123.45872</td>\n",
       "      <td>30</td>\n",
       "      <td>0</td>\n",
       "    </tr>\n",
       "    <tr>\n",
       "      <th>2</th>\n",
       "      <td>male</td>\n",
       "      <td>6.496063</td>\n",
       "      <td>174.16498</td>\n",
       "      <td>24</td>\n",
       "      <td>1</td>\n",
       "    </tr>\n",
       "    <tr>\n",
       "      <th>3</th>\n",
       "      <td>male</td>\n",
       "      <td>6.003937</td>\n",
       "      <td>176.36960</td>\n",
       "      <td>25</td>\n",
       "      <td>0</td>\n",
       "    </tr>\n",
       "    <tr>\n",
       "      <th>4</th>\n",
       "      <td>male</td>\n",
       "      <td>5.938320</td>\n",
       "      <td>156.52802</td>\n",
       "      <td>26</td>\n",
       "      <td>0</td>\n",
       "    </tr>\n",
       "  </tbody>\n",
       "</table>\n",
       "</div>"
      ],
      "text/plain": [
       "      sex    height     weight  age  medal winner\n",
       "0    male  5.643045  141.09568   47             0\n",
       "1  female  5.511811  123.45872   30             0\n",
       "2    male  6.496063  174.16498   24             1\n",
       "3    male  6.003937  176.36960   25             0\n",
       "4    male  5.938320  156.52802   26             0"
      ]
     },
     "execution_count": 5,
     "metadata": {},
     "output_type": "execute_result"
    }
   ],
   "source": [
    "df['medal winner'] = np.where(df['medals won']>=1, 1, 0)\n",
    "del df['medals won']\n",
    "del df['sport']\n",
    "df.head()"
   ]
  },
  {
   "cell_type": "code",
   "execution_count": 6,
   "metadata": {
    "collapsed": true
   },
   "outputs": [],
   "source": [
    "data2 = pd.get_dummies(df, columns =['sex'])\n",
    "data2['Medal Winner'] = df['medal winner']\n",
    "del data2['medal winner']\n",
    "del data2['sex_female']"
   ]
  },
  {
   "cell_type": "code",
   "execution_count": 7,
   "metadata": {
    "collapsed": true
   },
   "outputs": [],
   "source": [
    "X = data2.iloc[:,0:4]\n",
    "y = data2.iloc[:,4]"
   ]
  },
  {
   "cell_type": "code",
   "execution_count": 8,
   "metadata": {
    "collapsed": true
   },
   "outputs": [],
   "source": [
    "from sklearn.model_selection import train_test_split\n",
    "X_train, X_test, y_train, y_test = train_test_split(X, y, test_size=0.25, random_state=0)"
   ]
  },
  {
   "cell_type": "code",
   "execution_count": 9,
   "metadata": {},
   "outputs": [
    {
     "data": {
      "text/plain": [
       "LogisticRegression(C=1.0, class_weight=None, dual=False, fit_intercept=True,\n",
       "          intercept_scaling=1, max_iter=100, multi_class='ovr', n_jobs=1,\n",
       "          penalty='l2', random_state=None, solver='liblinear', tol=0.0001,\n",
       "          verbose=0, warm_start=False)"
      ]
     },
     "execution_count": 9,
     "metadata": {},
     "output_type": "execute_result"
    }
   ],
   "source": [
    "from sklearn.linear_model import LogisticRegression\n",
    "LogRegr = LogisticRegression()\n",
    "LogRegr.fit(X_train, y_train)"
   ]
  },
  {
   "cell_type": "code",
   "execution_count": 10,
   "metadata": {},
   "outputs": [
    {
     "name": "stdout",
     "output_type": "stream",
     "text": [
      "(8143, 4)\n",
      "(2715, 4)\n",
      "(8143,)\n",
      "(2715,)\n"
     ]
    }
   ],
   "source": [
    "print(X_train.shape)\n",
    "print(X_test.shape)\n",
    "print(y_train.shape)\n",
    "print(y_test.shape)"
   ]
  },
  {
   "cell_type": "code",
   "execution_count": 11,
   "metadata": {},
   "outputs": [
    {
     "data": {
      "text/plain": [
       "array([0, 0, 0, 0, 0, 0, 0, 0, 0, 0, 0, 0, 0, 0, 0, 0, 0, 0, 0, 0], dtype=int64)"
      ]
     },
     "execution_count": 11,
     "metadata": {},
     "output_type": "execute_result"
    }
   ],
   "source": [
    "predictions = LogRegr.predict(X_test)\n",
    "predictions[0:20]"
   ]
  },
  {
   "cell_type": "code",
   "execution_count": 12,
   "metadata": {},
   "outputs": [
    {
     "data": {
      "text/plain": [
       "array([ 0.16173099,  0.16508649,  0.13880085,  0.22018525,  0.12019011,\n",
       "        0.14264703,  0.11140551,  0.1638931 ,  0.1934844 ,  0.1589025 ])"
      ]
     },
     "execution_count": 12,
     "metadata": {},
     "output_type": "execute_result"
    }
   ],
   "source": [
    "predictions_Prob = LogRegr.predict_proba(X_test)[:,1]\n",
    "predictions_Prob[0:10]"
   ]
  },
  {
   "cell_type": "code",
   "execution_count": 13,
   "metadata": {},
   "outputs": [
    {
     "data": {
      "text/plain": [
       "Text(0,0.5,'Frequency')"
      ]
     },
     "execution_count": 13,
     "metadata": {},
     "output_type": "execute_result"
    },
    {
     "data": {
      "image/png": "[encoded data removed]",
      "text/plain": [
       "<matplotlib.figure.Figure at 0x1c14e664e0>"
      ]
     },
     "metadata": {},
     "output_type": "display_data"
    }
   ],
   "source": [
    "%matplotlib inline \n",
    "import matplotlib.pyplot as plt\n",
    "plt.rcParams['font.size'] = 12\n",
    "plt.hist(predictions_Prob, bins = 8)\n",
    "\n",
    "plt.xlim(0,1)\n",
    "plt.title('Histogram of predicted probabilities')\n",
    "plt.xlabel('Predicted probability of winning a medal')\n",
    "plt.ylabel('Frequency')"
   ]
  },
  {
   "cell_type": "code",
   "execution_count": 14,
   "metadata": {
    "collapsed": true
   },
   "outputs": [],
   "source": [
    "from sklearn.preprocessing import binarize\n",
    "predictions_Prob = predictions_Prob.reshape(1,-1)\n",
    "y_pred_class = binarize(predictions_Prob, 0.2)[0]\n"
   ]
  },
  {
   "cell_type": "code",
   "execution_count": 15,
   "metadata": {},
   "outputs": [
    {
     "data": {
      "text/plain": [
       "array([ 0.,  0.,  0.,  1.,  0.,  0.,  0.,  0.,  0.,  0.,  0.,  1.,  1.,\n",
       "        0.,  0.,  0.,  0.,  1.,  1.,  0.])"
      ]
     },
     "execution_count": 15,
     "metadata": {},
     "output_type": "execute_result"
    }
   ],
   "source": [
    "y_pred_class[0:20]"
   ]
  },
  {
   "cell_type": "code",
   "execution_count": 16,
   "metadata": {},
   "outputs": [
    {
     "data": {
      "text/plain": [
       "7210     0\n",
       "2257     0\n",
       "181      0\n",
       "4425     0\n",
       "1575     0\n",
       "3970     0\n",
       "4273     0\n",
       "6345     0\n",
       "10329    0\n",
       "7043     1\n",
       "3977     0\n",
       "4345     1\n",
       "829      0\n",
       "175      0\n",
       "9252     0\n",
       "6314     0\n",
       "7432     0\n",
       "3935     0\n",
       "6461     0\n",
       "4151     0\n",
       "Name: Medal Winner, dtype: int64"
      ]
     },
     "execution_count": 16,
     "metadata": {},
     "output_type": "execute_result"
    }
   ],
   "source": [
    "y_test.head(20)"
   ]
  },
  {
   "cell_type": "code",
   "execution_count": 17,
   "metadata": {},
   "outputs": [
    {
     "name": "stdout",
     "output_type": "stream",
     "text": [
      "[[2029  243]\n",
      " [ 360   83]]\n"
     ]
    }
   ],
   "source": [
    "from sklearn.metrics import confusion_matrix\n",
    "cm = confusion_matrix(y_test, y_pred_class)\n",
    "print(cm)"
   ]
  },
  {
   "cell_type": "code",
   "execution_count": 18,
   "metadata": {},
   "outputs": [
    {
     "data": {
      "image/png": "[encoded data removed]",
      "text/plain": [
       "<matplotlib.figure.Figure at 0x1c1dd08b38>"
      ]
     },
     "metadata": {},
     "output_type": "display_data"
    }
   ],
   "source": [
    "#Predicting medal winners for all athletes\n",
    "import numpy as np\n",
    "import matplotlib.pyplot as plt\n",
    "plt.figure(figsize=(9,9))\n",
    "plt.imshow(cm, interpolation='nearest', cmap='Pastel1')\n",
    "plt.title('Confusion Matrix for All Athletes', size = 15)\n",
    "plt.colorbar()\n",
    "tick_marks = np.arange(2)\n",
    "plt.xticks(tick_marks, [\"Not Winner\", \"Medal Winner\"], rotation=45, size = 10)\n",
    "plt.yticks(tick_marks, [\"Not Winner\", \"Medal Winner\"], size = 10)\n",
    "plt.tight_layout()\n",
    "plt.ylabel('Actual label', size = 15)\n",
    "plt.xlabel('Predicted label', size = 15)\n",
    "width, height = cm.shape\n",
    "for x in range(width):\n",
    " for y in range(height):\n",
    "  plt.annotate(str(cm[x][y]), xy=(y, x), \n",
    "  horizontalalignment='center',\n",
    "  verticalalignment='center')\n",
    "plt.show()"
   ]
  },
  {
   "cell_type": "code",
   "execution_count": 19,
   "metadata": {},
   "outputs": [
    {
     "name": "stdout",
     "output_type": "stream",
     "text": [
      "0.836832412523\n"
     ]
    }
   ],
   "source": [
    "#PLog medal winners for all athletes\n",
    "score = LogRegr.score(X_test, y_test)\n",
    "print(score)"
   ]
  },
  {
   "cell_type": "code",
   "execution_count": 20,
   "metadata": {
    "collapsed": true
   },
   "outputs": [],
   "source": [
    "df2 = pd.read_csv('athletes.csv')"
   ]
  },
  {
   "cell_type": "code",
   "execution_count": 21,
   "metadata": {
    "collapsed": true
   },
   "outputs": [],
   "source": [
    "df2['medals won'] = df2['gold'] + df2['silver'] + df2['bronze']\n",
    "del df2['gold']\n",
    "del df2['silver']\n",
    "del df2['bronze']\n",
    "df2['height'] = df2['height'] * 3.28084\n",
    "df2['weight'] = df2['weight'] * 2.20462"
   ]
  },
  {
   "cell_type": "code",
   "execution_count": 22,
   "metadata": {},
   "outputs": [
    {
     "data": {
      "text/html": [
       "<div>\n",
       "<style>\n",
       "    .dataframe thead tr:only-child th {\n",
       "        text-align: right;\n",
       "    }\n",
       "\n",
       "    .dataframe thead th {\n",
       "        text-align: left;\n",
       "    }\n",
       "\n",
       "    .dataframe tbody tr th {\n",
       "        vertical-align: top;\n",
       "    }\n",
       "</style>\n",
       "<table border=\"1\" class=\"dataframe\">\n",
       "  <thead>\n",
       "    <tr style=\"text-align: right;\">\n",
       "      <th></th>\n",
       "      <th>sex</th>\n",
       "      <th>date_of_birth</th>\n",
       "      <th>height</th>\n",
       "      <th>weight</th>\n",
       "      <th>sport</th>\n",
       "      <th>medals won</th>\n",
       "    </tr>\n",
       "  </thead>\n",
       "  <tbody>\n",
       "    <tr>\n",
       "      <th>0</th>\n",
       "      <td>male</td>\n",
       "      <td>1969-10-17</td>\n",
       "      <td>5.643045</td>\n",
       "      <td>141.09568</td>\n",
       "      <td>athletics</td>\n",
       "      <td>0</td>\n",
       "    </tr>\n",
       "    <tr>\n",
       "      <th>1</th>\n",
       "      <td>female</td>\n",
       "      <td>1986-09-23</td>\n",
       "      <td>5.511811</td>\n",
       "      <td>123.45872</td>\n",
       "      <td>fencing</td>\n",
       "      <td>0</td>\n",
       "    </tr>\n",
       "    <tr>\n",
       "      <th>2</th>\n",
       "      <td>male</td>\n",
       "      <td>1992-05-27</td>\n",
       "      <td>6.496063</td>\n",
       "      <td>174.16498</td>\n",
       "      <td>athletics</td>\n",
       "      <td>1</td>\n",
       "    </tr>\n",
       "    <tr>\n",
       "      <th>3</th>\n",
       "      <td>male</td>\n",
       "      <td>1991-01-02</td>\n",
       "      <td>6.003937</td>\n",
       "      <td>176.36960</td>\n",
       "      <td>taekwondo</td>\n",
       "      <td>0</td>\n",
       "    </tr>\n",
       "    <tr>\n",
       "      <th>4</th>\n",
       "      <td>male</td>\n",
       "      <td>1990-11-26</td>\n",
       "      <td>5.938320</td>\n",
       "      <td>156.52802</td>\n",
       "      <td>cycling</td>\n",
       "      <td>0</td>\n",
       "    </tr>\n",
       "  </tbody>\n",
       "</table>\n",
       "</div>"
      ],
      "text/plain": [
       "      sex date_of_birth    height     weight      sport  medals won\n",
       "0    male    1969-10-17  5.643045  141.09568  athletics           0\n",
       "1  female    1986-09-23  5.511811  123.45872    fencing           0\n",
       "2    male    1992-05-27  6.496063  174.16498  athletics           1\n",
       "3    male    1991-01-02  6.003937  176.36960  taekwondo           0\n",
       "4    male    1990-11-26  5.938320  156.52802    cycling           0"
      ]
     },
     "execution_count": 22,
     "metadata": {},
     "output_type": "execute_result"
    }
   ],
   "source": [
    "del df2['id']\n",
    "del df2['name']\n",
    "del df2['nationality']\n",
    "del df2['info']\n",
    "df2.head()"
   ]
  },
  {
   "cell_type": "code",
   "execution_count": 23,
   "metadata": {},
   "outputs": [
    {
     "data": {
      "text/html": [
       "<div>\n",
       "<style>\n",
       "    .dataframe thead tr:only-child th {\n",
       "        text-align: right;\n",
       "    }\n",
       "\n",
       "    .dataframe thead th {\n",
       "        text-align: left;\n",
       "    }\n",
       "\n",
       "    .dataframe tbody tr th {\n",
       "        vertical-align: top;\n",
       "    }\n",
       "</style>\n",
       "<table border=\"1\" class=\"dataframe\">\n",
       "  <thead>\n",
       "    <tr style=\"text-align: right;\">\n",
       "      <th></th>\n",
       "      <th>sex</th>\n",
       "      <th>height</th>\n",
       "      <th>weight</th>\n",
       "      <th>sport</th>\n",
       "      <th>medals won</th>\n",
       "      <th>age</th>\n",
       "    </tr>\n",
       "  </thead>\n",
       "  <tbody>\n",
       "    <tr>\n",
       "      <th>0</th>\n",
       "      <td>male</td>\n",
       "      <td>5.643045</td>\n",
       "      <td>141.09568</td>\n",
       "      <td>athletics</td>\n",
       "      <td>0</td>\n",
       "      <td>47</td>\n",
       "    </tr>\n",
       "    <tr>\n",
       "      <th>1</th>\n",
       "      <td>female</td>\n",
       "      <td>5.511811</td>\n",
       "      <td>123.45872</td>\n",
       "      <td>fencing</td>\n",
       "      <td>0</td>\n",
       "      <td>30</td>\n",
       "    </tr>\n",
       "    <tr>\n",
       "      <th>2</th>\n",
       "      <td>male</td>\n",
       "      <td>6.496063</td>\n",
       "      <td>174.16498</td>\n",
       "      <td>athletics</td>\n",
       "      <td>1</td>\n",
       "      <td>24</td>\n",
       "    </tr>\n",
       "    <tr>\n",
       "      <th>3</th>\n",
       "      <td>male</td>\n",
       "      <td>6.003937</td>\n",
       "      <td>176.36960</td>\n",
       "      <td>taekwondo</td>\n",
       "      <td>0</td>\n",
       "      <td>25</td>\n",
       "    </tr>\n",
       "    <tr>\n",
       "      <th>4</th>\n",
       "      <td>male</td>\n",
       "      <td>5.938320</td>\n",
       "      <td>156.52802</td>\n",
       "      <td>cycling</td>\n",
       "      <td>0</td>\n",
       "      <td>26</td>\n",
       "    </tr>\n",
       "  </tbody>\n",
       "</table>\n",
       "</div>"
      ],
      "text/plain": [
       "      sex    height     weight      sport  medals won  age\n",
       "0    male  5.643045  141.09568  athletics           0   47\n",
       "1  female  5.511811  123.45872    fencing           0   30\n",
       "2    male  6.496063  174.16498  athletics           1   24\n",
       "3    male  6.003937  176.36960  taekwondo           0   25\n",
       "4    male  5.938320  156.52802    cycling           0   26"
      ]
     },
     "execution_count": 23,
     "metadata": {},
     "output_type": "execute_result"
    }
   ],
   "source": [
    "df2 = df2.dropna()\n",
    "year = df2[\"date_of_birth\"].values\n",
    "year = [my_str.split(\"-\")[0] for my_str in year]\n",
    "year\n",
    "df2[\"date_of_birth\"] = list(map(int, year))\n",
    "df2['age'] = 2016 - df2[\"date_of_birth\"]\n",
    "del df2['date_of_birth']\n",
    "df2.head()"
   ]
  },
  {
   "cell_type": "code",
   "execution_count": 24,
   "metadata": {
    "collapsed": true
   },
   "outputs": [],
   "source": [
    "df2['medal winner'] = np.where(df2['medals won']>=1, 1, 0)\n",
    "del df2['medals won']"
   ]
  },
  {
   "cell_type": "code",
   "execution_count": 25,
   "metadata": {
    "collapsed": true
   },
   "outputs": [],
   "source": [
    "data_aquatics = df2[df2['sport'] == \"aquatics\"]\n"
   ]
  },
  {
   "cell_type": "code",
   "execution_count": 26,
   "metadata": {
    "collapsed": true
   },
   "outputs": [],
   "source": [
    "del data_aquatics['sport']\n"
   ]
  },
  {
   "cell_type": "code",
   "execution_count": 27,
   "metadata": {
    "collapsed": true
   },
   "outputs": [],
   "source": [
    "data2 = pd.get_dummies(data_aquatics, columns =['sex'])\n",
    "data2['Medal Winner'] = data_aquatics['medal winner']\n",
    "del data2['medal winner']\n",
    "del data2['sex_female']"
   ]
  },
  {
   "cell_type": "code",
   "execution_count": 28,
   "metadata": {
    "collapsed": true
   },
   "outputs": [],
   "source": [
    "\n",
    "X = data2.iloc[:,0:4]\n",
    "y = data2.iloc[:,4]"
   ]
  },
  {
   "cell_type": "code",
   "execution_count": 29,
   "metadata": {
    "collapsed": true
   },
   "outputs": [],
   "source": [
    "from sklearn.model_selection import train_test_split\n",
    "X_train, X_test, y_train, y_test = train_test_split(X, y, test_size=0.25, random_state=0)"
   ]
  },
  {
   "cell_type": "code",
   "execution_count": 30,
   "metadata": {},
   "outputs": [
    {
     "data": {
      "text/plain": [
       "LogisticRegression(C=1.0, class_weight=None, dual=False, fit_intercept=True,\n",
       "          intercept_scaling=1, max_iter=100, multi_class='ovr', n_jobs=1,\n",
       "          penalty='l2', random_state=None, solver='liblinear', tol=0.0001,\n",
       "          verbose=0, warm_start=False)"
      ]
     },
     "execution_count": 30,
     "metadata": {},
     "output_type": "execute_result"
    }
   ],
   "source": [
    "from sklearn.linear_model import LogisticRegression\n",
    "LogRegr = LogisticRegression()\n",
    "LogRegr.fit(X_train, y_train)"
   ]
  },
  {
   "cell_type": "code",
   "execution_count": 31,
   "metadata": {},
   "outputs": [
    {
     "name": "stdout",
     "output_type": "stream",
     "text": [
      "(1047, 4)\n",
      "(349, 4)\n",
      "(1047,)\n",
      "(349,)\n"
     ]
    }
   ],
   "source": [
    "print(X_train.shape)\n",
    "print(X_test.shape)\n",
    "print(y_train.shape)\n",
    "print(y_test.shape)"
   ]
  },
  {
   "cell_type": "code",
   "execution_count": 32,
   "metadata": {},
   "outputs": [
    {
     "data": {
      "text/plain": [
       "array([0, 0, 0, 0, 0, 0, 0, 0, 0, 0, 0, 0, 0, 0, 0, 0, 0, 0, 0, 0], dtype=int64)"
      ]
     },
     "execution_count": 32,
     "metadata": {},
     "output_type": "execute_result"
    }
   ],
   "source": [
    "predictions = LogRegr.predict(X_test)\n",
    "predictions[0:20]"
   ]
  },
  {
   "cell_type": "code",
   "execution_count": 33,
   "metadata": {},
   "outputs": [
    {
     "data": {
      "text/plain": [
       "array([ 0.23714002,  0.21486406,  0.17303404,  0.13772237,  0.14690006,\n",
       "        0.18896057,  0.18635136,  0.22361848,  0.15608354,  0.15237701,\n",
       "        0.13034228,  0.21357489,  0.17706752,  0.19207533,  0.22873862,\n",
       "        0.22488529,  0.25729679,  0.20019138,  0.15917327,  0.16969955,\n",
       "        0.23752967,  0.1483191 ,  0.19693763,  0.12411594,  0.28243969,\n",
       "        0.22884503,  0.16036171,  0.10355177,  0.1997054 ,  0.17259671,\n",
       "        0.17063341,  0.25724094,  0.16408472,  0.15246603,  0.41031207,\n",
       "        0.20448717,  0.17521514,  0.14552827,  0.27223258,  0.1708853 ,\n",
       "        0.23634185,  0.19507731,  0.2506796 ,  0.30742051,  0.12383392,\n",
       "        0.16448098,  0.13509431,  0.20046924,  0.15958006,  0.18879731,\n",
       "        0.12651279,  0.14947241,  0.23761346,  0.1363708 ,  0.27157329,\n",
       "        0.1401128 ,  0.13180328,  0.18041024,  0.07919961,  0.21268442,\n",
       "        0.15289387,  0.16491824,  0.1777862 ,  0.14353333,  0.1958801 ,\n",
       "        0.35766289,  0.26263117,  0.18529343,  0.16366869,  0.23715559])"
      ]
     },
     "execution_count": 33,
     "metadata": {},
     "output_type": "execute_result"
    }
   ],
   "source": [
    "predictions_Prob = LogRegr.predict_proba(X_test)[:,1]\n",
    "predictions_Prob[0:70]"
   ]
  },
  {
   "cell_type": "code",
   "execution_count": 34,
   "metadata": {},
   "outputs": [
    {
     "data": {
      "text/plain": [
       "Text(0,0.5,'Frequency')"
      ]
     },
     "execution_count": 34,
     "metadata": {},
     "output_type": "execute_result"
    },
    {
     "data": {
      "image/png": "[encoded data removed]",
      "text/plain": [
       "<matplotlib.figure.Figure at 0x1c1dc0eef0>"
      ]
     },
     "metadata": {},
     "output_type": "display_data"
    }
   ],
   "source": [
    "%matplotlib inline \n",
    "import matplotlib.pyplot as plt\n",
    "plt.rcParams['font.size'] = 12\n",
    "plt.hist(predictions_Prob, bins = 8)\n",
    "\n",
    "plt.xlim(0,1)\n",
    "plt.title('Histogram of predicted probabilities')\n",
    "plt.xlabel('Predicted probability of winning a medal')\n",
    "plt.ylabel('Frequency')"
   ]
  },
  {
   "cell_type": "code",
   "execution_count": 35,
   "metadata": {
    "collapsed": true
   },
   "outputs": [],
   "source": [
    "from sklearn.preprocessing import binarize\n",
    "predictions_Prob = predictions_Prob.reshape(1,-1)\n",
    "y_pred_class = binarize(predictions_Prob, 0.25)[0]\n",
    "\n"
   ]
  },
  {
   "cell_type": "code",
   "execution_count": 40,
   "metadata": {},
   "outputs": [
    {
     "data": {
      "text/plain": [
       "array([[ 0.23714002,  0.21486406,  0.17303404,  0.13772237,  0.14690006,\n",
       "         0.18896057,  0.18635136,  0.22361848,  0.15608354,  0.15237701,\n",
       "         0.13034228,  0.21357489,  0.17706752,  0.19207533,  0.22873862,\n",
       "         0.22488529,  0.25729679,  0.20019138,  0.15917327,  0.16969955,\n",
       "         0.23752967,  0.1483191 ,  0.19693763,  0.12411594,  0.28243969,\n",
       "         0.22884503,  0.16036171,  0.10355177,  0.1997054 ,  0.17259671,\n",
       "         0.17063341,  0.25724094,  0.16408472,  0.15246603,  0.41031207,\n",
       "         0.20448717,  0.17521514,  0.14552827,  0.27223258,  0.1708853 ,\n",
       "         0.23634185,  0.19507731,  0.2506796 ,  0.30742051,  0.12383392,\n",
       "         0.16448098,  0.13509431,  0.20046924,  0.15958006,  0.18879731,\n",
       "         0.12651279,  0.14947241,  0.23761346,  0.1363708 ,  0.27157329,\n",
       "         0.1401128 ,  0.13180328,  0.18041024,  0.07919961,  0.21268442,\n",
       "         0.15289387,  0.16491824,  0.1777862 ,  0.14353333,  0.1958801 ,\n",
       "         0.35766289,  0.26263117,  0.18529343,  0.16366869,  0.23715559,\n",
       "         0.14648609,  0.20931469,  0.23944892,  0.20245507,  0.17581206,\n",
       "         0.2333301 ,  0.17083171,  0.34074355,  0.20198945,  0.15613619,\n",
       "         0.20310829,  0.25206266,  0.21237587,  0.14069918,  0.16167887,\n",
       "         0.10995164,  0.1812258 ,  0.10284102,  0.1642858 ,  0.15368677,\n",
       "         0.19496551,  0.15632935,  0.26307768,  0.19320791,  0.16567497,\n",
       "         0.20500498,  0.13806822,  0.35824457,  0.18372618,  0.14451866,\n",
       "         0.20094949,  0.16775647,  0.14707822,  0.15626553,  0.16879367,\n",
       "         0.2162868 ,  0.17381695,  0.12051039,  0.18548374,  0.16959947,\n",
       "         0.15608939,  0.2098661 ,  0.20340311,  0.22640969,  0.18207133,\n",
       "         0.14081508,  0.21468434,  0.15256062,  0.18351318,  0.24305736,\n",
       "         0.23220818,  0.15680712,  0.24294642,  0.14589307,  0.15508019,\n",
       "         0.16577615,  0.21777322,  0.17931706,  0.21377916,  0.16882545,\n",
       "         0.14287095,  0.21132029,  0.14203021,  0.18071627,  0.22920112,\n",
       "         0.20793268,  0.18028619,  0.18060795,  0.18345651,  0.21082489,\n",
       "         0.14966173,  0.14029703,  0.15512674,  0.25129731,  0.1801222 ,\n",
       "         0.16467085,  0.20952333,  0.14240993,  0.13463572,  0.17622797,\n",
       "         0.17819276,  0.18252394,  0.21898116,  0.21048835,  0.13340674,\n",
       "         0.25216799,  0.18596791,  0.13374077,  0.18602169,  0.16209395,\n",
       "         0.21296398,  0.18171044,  0.22240682,  0.164036  ,  0.1818564 ,\n",
       "         0.1421142 ,  0.13151637,  0.19258575,  0.18460334,  0.18692362,\n",
       "         0.27721832,  0.20146033,  0.26688303,  0.12081436,  0.16633251,\n",
       "         0.18831427,  0.15655543,  0.25585236,  0.20819533,  0.14521118,\n",
       "         0.15835736,  0.124273  ,  0.21388442,  0.13824523,  0.24225375,\n",
       "         0.19353053,  0.29397379,  0.17140482,  0.20307163,  0.18299866,\n",
       "         0.29218851,  0.16618183,  0.22355311,  0.2161664 ,  0.18563205,\n",
       "         0.12199559,  0.13310682,  0.17585132,  0.18730859,  0.17470814,\n",
       "         0.18901829,  0.22109249,  0.1911092 ,  0.187299  ,  0.14738809,\n",
       "         0.18885172,  0.23522173,  0.14367759,  0.15091486,  0.19702965,\n",
       "         0.21933512,  0.33510135,  0.16522423,  0.16458474,  0.18055539,\n",
       "         0.15273626,  0.18668472,  0.21438145,  0.12352111,  0.23033727,\n",
       "         0.15776399,  0.17095388,  0.21846596,  0.28521366,  0.19763012,\n",
       "         0.25760184,  0.26839741,  0.28073699,  0.21174598,  0.22861331,\n",
       "         0.25778515,  0.16024875,  0.19395293,  0.2024185 ,  0.28907698,\n",
       "         0.18050284,  0.18176009,  0.16179287,  0.14052211,  0.23214866,\n",
       "         0.17899709,  0.18131213,  0.22325559,  0.17733632,  0.14224678,\n",
       "         0.1889294 ,  0.20655041,  0.27461854,  0.25750489,  0.14881102,\n",
       "         0.28967013,  0.20597539,  0.15902476,  0.15608939,  0.17152404,\n",
       "         0.20495708,  0.19896794,  0.13130613,  0.13458668,  0.27532762,\n",
       "         0.14975216,  0.16184395,  0.15737498,  0.20520319,  0.20938056,\n",
       "         0.10549877,  0.15907821,  0.15727796,  0.14928116,  0.22749628,\n",
       "         0.19338101,  0.18408671,  0.18496843,  0.23482641,  0.57783544,\n",
       "         0.20189226,  0.13716438,  0.34252744,  0.15512976,  0.28894832,\n",
       "         0.17576369,  0.15110546,  0.22098498,  0.1505771 ,  0.22140248,\n",
       "         0.26159149,  0.24663653,  0.16273714,  0.2310465 ,  0.17831568,\n",
       "         0.14064829,  0.22656448,  0.17491643,  0.21397355,  0.21320968,\n",
       "         0.13060372,  0.22861737,  0.11843662,  0.20171345,  0.1037891 ,\n",
       "         0.17168184,  0.22456409,  0.20092882,  0.13416812,  0.12510888,\n",
       "         0.21996315,  0.13845696,  0.16862616,  0.17109603,  0.13212912,\n",
       "         0.24287686,  0.12650347,  0.16413345,  0.187289  ,  0.2945086 ,\n",
       "         0.2193535 ,  0.21692286,  0.15054245,  0.12606236,  0.25164433,\n",
       "         0.30207335,  0.19796197,  0.22762896,  0.21437369,  0.25934205,\n",
       "         0.10210381,  0.21603491,  0.18138055,  0.2327387 ,  0.1330683 ,\n",
       "         0.16358592,  0.23978062,  0.14469992,  0.25683392,  0.16711235,\n",
       "         0.23568118,  0.18136803,  0.16173015,  0.29140948,  0.21691216,\n",
       "         0.17396099,  0.15714793,  0.18251731,  0.16199748,  0.1300652 ,\n",
       "         0.20157464,  0.18745802,  0.21523523,  0.14854922]])"
      ]
     },
     "execution_count": 40,
     "metadata": {},
     "output_type": "execute_result"
    }
   ],
   "source": [
    "predictions_Prob[0:20]"
   ]
  },
  {
   "cell_type": "code",
   "execution_count": 41,
   "metadata": {},
   "outputs": [
    {
     "data": {
      "text/plain": [
       "array([ 0.,  0.,  0.,  0.,  0.,  0.,  0.,  0.,  0.,  0.,  0.,  0.,  0.,\n",
       "        0.,  0.,  0.,  1.,  0.,  0.,  0.])"
      ]
     },
     "execution_count": 41,
     "metadata": {},
     "output_type": "execute_result"
    }
   ],
   "source": [
    "y_pred_class[0:20]"
   ]
  },
  {
   "cell_type": "code",
   "execution_count": 42,
   "metadata": {},
   "outputs": [
    {
     "data": {
      "text/plain": [
       "1188     1\n",
       "1583     0\n",
       "9849     0\n",
       "3331     0\n",
       "1081     0\n",
       "8919     0\n",
       "9915     1\n",
       "1302     0\n",
       "3151     0\n",
       "2188     0\n",
       "1263     0\n",
       "6878     0\n",
       "4253     0\n",
       "10072    0\n",
       "10242    1\n",
       "5767     0\n",
       "6317     0\n",
       "8010     1\n",
       "10207    0\n",
       "2396     0\n",
       "Name: Medal Winner, dtype: int64"
      ]
     },
     "execution_count": 42,
     "metadata": {},
     "output_type": "execute_result"
    }
   ],
   "source": [
    "y_test.head(20)"
   ]
  },
  {
   "cell_type": "code",
   "execution_count": 43,
   "metadata": {},
   "outputs": [
    {
     "name": "stdout",
     "output_type": "stream",
     "text": [
      "[[253  32]\n",
      " [ 54  10]]\n"
     ]
    }
   ],
   "source": [
    "from sklearn.metrics import confusion_matrix\n",
    "cm = confusion_matrix(y_test, y_pred_class)\n",
    "print(cm)"
   ]
  },
  {
   "cell_type": "code",
   "execution_count": 44,
   "metadata": {},
   "outputs": [
    {
     "data": {
      "image/png": "[encoded data removed]",
      "text/plain": [
       "<matplotlib.figure.Figure at 0x1c1455a278>"
      ]
     },
     "metadata": {},
     "output_type": "display_data"
    }
   ],
   "source": [
    "import numpy as np\n",
    "import matplotlib.pyplot as plt\n",
    "plt.figure(figsize=(9,9))\n",
    "plt.imshow(cm, interpolation='nearest', cmap='Pastel1')\n",
    "plt.title('Confusion Matrix for All Swimmers', size = 15)\n",
    "plt.colorbar()\n",
    "tick_marks = np.arange(2)\n",
    "plt.xticks(tick_marks, [\"Not Winner\", \"Medal Winner\"], rotation=45, size = 10)\n",
    "plt.yticks(tick_marks, [\"Not Winner\", \"Medal Winner\"], size = 10)\n",
    "plt.tight_layout()\n",
    "plt.ylabel('Actual label', size = 15)\n",
    "plt.xlabel('Predicted label', size = 15)\n",
    "width, height = cm.shape\n",
    "for x in range(width):\n",
    " for y in range(height):\n",
    "  plt.annotate(str(cm[x][y]), xy=(y, x), \n",
    "  horizontalalignment='center',\n",
    "  verticalalignment='center')\n",
    "plt.show()"
   ]
  },
  {
   "cell_type": "code",
   "execution_count": null,
   "metadata": {
    "collapsed": true
   },
   "outputs": [],
   "source": []
  },
  {
   "cell_type": "code",
   "execution_count": null,
   "metadata": {
    "collapsed": true
   },
   "outputs": [],
   "source": []
  },
  {
   "cell_type": "code",
   "execution_count": null,
   "metadata": {
    "collapsed": true
   },
   "outputs": [],
   "source": []
  },
  {
   "cell_type": "code",
   "execution_count": null,
   "metadata": {
    "collapsed": true
   },
   "outputs": [],
   "source": []
  }
 ],
 "metadata": {
  "kernelspec": {
   "display_name": "Python 3",
   "language": "python",
   "name": "python3"
  },
  "language_info": {
   "codemirror_mode": {
    "name": "ipython",
    "version": 3
   },
   "file_extension": ".py",
   "mimetype": "text/x-python",
   "name": "python",
   "nbconvert_exporter": "python",
   "pygments_lexer": "ipython3",
   "version": "3.6.3"
  }
 },
 "nbformat": 4,
 "nbformat_minor": 2
}
